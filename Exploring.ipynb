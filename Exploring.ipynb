{
 "cells": [
  {
   "cell_type": "code",
   "execution_count": 1,
   "metadata": {},
   "outputs": [],
   "source": [
    "using DataFrames, CSV\n",
    "#using JLD\n",
    "using JuMP, Gurobi\n",
    "using LinearAlgebra, Random, Printf, StatsBase, CategoricalArrays\n",
    "using Plots, StatsPlots\n",
    "using Distributions"
   ]
  },
  {
   "cell_type": "code",
   "execution_count": 2,
   "metadata": {},
   "outputs": [],
   "source": [
    "races = [\"Sakhir\", \"Jeddah\", \"Melbourne\", \"Shanghai\", \"Baku\", \"Miami\", \"Imola\", \"Monaco\", \"Barcelona\", \"Montreal\", \"Spielberg\", \"Silverstone\", \"Budapest\", \"Spa\", \"Zandvoort\", \"Monza\", \"Singapore\", \"Suzuka\", \"Lusail\", \"Austin\", \"Mexico City\", \"Sao Paulo\", \"Las Vegas\",\"Yas Marina\"]\n",
    "races_circuitref = [\"bahrain\", \"jeddah\", \"albert_park\", \"shanghai\", \"baku\", \"miami\", \"imola\", \"monaco\", \"catalunya\", \"villeneuve\", \"red_bull_ring\", \"silverstone\", \"hungaroring\", \"spa\", \"zandvoort\", \"monza\", \"marina_bay\", \"suzuka\", \"losail\", \"americas\", \"rodriguez\", \"interlagos\", \"las_vegas\", \"yas_marina\"];"
   ]
  },
  {
   "cell_type": "code",
   "execution_count": 3,
   "metadata": {},
   "outputs": [
    {
     "data": {
      "text/html": [
       "<div class=\"data-frame\"><p>5 rows × 9 columns (omitted printing of 4 columns)</p><table class=\"data-frame\"><thead><tr><th></th><th>circuitId</th><th>circuitRef</th><th>name</th><th>location</th><th>country</th></tr><tr><th></th><th title=\"Int64\">Int64</th><th title=\"String15\">String15</th><th title=\"String\">String</th><th title=\"String31\">String31</th><th title=\"String15\">String15</th></tr></thead><tbody><tr><th>1</th><td>1</td><td>albert_park</td><td>Albert Park Grand Prix Circuit</td><td>Melbourne</td><td>Australia</td></tr><tr><th>2</th><td>2</td><td>sepang</td><td>Sepang International Circuit</td><td>Kuala Lumpur</td><td>Malaysia</td></tr><tr><th>3</th><td>3</td><td>bahrain</td><td>Bahrain International Circuit</td><td>Sakhir</td><td>Bahrain</td></tr><tr><th>4</th><td>4</td><td>catalunya</td><td>Circuit de Barcelona-Catalunya</td><td>Montmeló</td><td>Spain</td></tr><tr><th>5</th><td>5</td><td>istanbul</td><td>Istanbul Park</td><td>Istanbul</td><td>Turkey</td></tr></tbody></table></div>"
      ],
      "text/latex": [
       "\\begin{tabular}{r|cccccc}\n",
       "\t& circuitId & circuitRef & name & location & country & \\\\\n",
       "\t\\hline\n",
       "\t& Int64 & String15 & String & String31 & String15 & \\\\\n",
       "\t\\hline\n",
       "\t1 & 1 & albert\\_park & Albert Park Grand Prix Circuit & Melbourne & Australia & $\\dots$ \\\\\n",
       "\t2 & 2 & sepang & Sepang International Circuit & Kuala Lumpur & Malaysia & $\\dots$ \\\\\n",
       "\t3 & 3 & bahrain & Bahrain International Circuit & Sakhir & Bahrain & $\\dots$ \\\\\n",
       "\t4 & 4 & catalunya & Circuit de Barcelona-Catalunya & Montmeló & Spain & $\\dots$ \\\\\n",
       "\t5 & 5 & istanbul & Istanbul Park & Istanbul & Turkey & $\\dots$ \\\\\n",
       "\\end{tabular}\n"
      ],
      "text/plain": [
       "\u001b[1m5×9 DataFrame\u001b[0m\n",
       "\u001b[1m Row \u001b[0m│\u001b[1m circuitId \u001b[0m\u001b[1m circuitRef  \u001b[0m\u001b[1m name                           \u001b[0m\u001b[1m location     \u001b[0m\u001b[1m c\u001b[0m ⋯\n",
       "\u001b[1m     \u001b[0m│\u001b[90m Int64     \u001b[0m\u001b[90m String15    \u001b[0m\u001b[90m String                         \u001b[0m\u001b[90m String31     \u001b[0m\u001b[90m S\u001b[0m ⋯\n",
       "─────┼──────────────────────────────────────────────────────────────────────────\n",
       "   1 │         1  albert_park  Albert Park Grand Prix Circuit  Melbourne     A ⋯\n",
       "   2 │         2  sepang       Sepang International Circuit    Kuala Lumpur  M\n",
       "   3 │         3  bahrain      Bahrain International Circuit   Sakhir        B\n",
       "   4 │         4  catalunya    Circuit de Barcelona-Catalunya  Montmeló      S\n",
       "   5 │         5  istanbul     Istanbul Park                   Istanbul      T ⋯\n",
       "\u001b[36m                                                               5 columns omitted\u001b[0m"
      ]
     },
     "metadata": {},
     "output_type": "display_data"
    }
   ],
   "source": [
    "#import Data\n",
    "all_df = CSV.read(\"circuits.csv\", DataFrame)\n",
    "first(all_df,5)"
   ]
  },
  {
   "cell_type": "code",
   "execution_count": 4,
   "metadata": {},
   "outputs": [
    {
     "data": {
      "text/html": [
       "<div class=\"data-frame\"><p>24 rows × 4 columns</p><table class=\"data-frame\"><thead><tr><th></th><th>circuitRef</th><th>location</th><th>lat</th><th>lng</th></tr><tr><th></th><th title=\"String15\">String15</th><th title=\"String31\">String31</th><th title=\"Float64\">Float64</th><th title=\"Float64\">Float64</th></tr></thead><tbody><tr><th>1</th><td>albert_park</td><td>Melbourne</td><td>-37.8497</td><td>144.968</td></tr><tr><th>2</th><td>bahrain</td><td>Sakhir</td><td>26.0325</td><td>50.5106</td></tr><tr><th>3</th><td>catalunya</td><td>Montmeló</td><td>41.57</td><td>2.26111</td></tr><tr><th>4</th><td>monaco</td><td>Monte-Carlo</td><td>43.7347</td><td>7.42056</td></tr><tr><th>5</th><td>villeneuve</td><td>Montreal</td><td>45.5</td><td>-73.5228</td></tr><tr><th>6</th><td>silverstone</td><td>Silverstone</td><td>52.0786</td><td>-1.01694</td></tr><tr><th>7</th><td>hungaroring</td><td>Budapest</td><td>47.5789</td><td>19.2486</td></tr><tr><th>8</th><td>spa</td><td>Spa</td><td>50.4372</td><td>5.97139</td></tr><tr><th>9</th><td>monza</td><td>Monza</td><td>45.6156</td><td>9.28111</td></tr><tr><th>10</th><td>marina_bay</td><td>Marina Bay</td><td>1.2914</td><td>103.864</td></tr><tr><th>11</th><td>shanghai</td><td>Shanghai</td><td>31.3389</td><td>121.22</td></tr><tr><th>12</th><td>interlagos</td><td>São Paulo</td><td>-23.7036</td><td>-46.6997</td></tr><tr><th>13</th><td>imola</td><td>Imola</td><td>44.3439</td><td>11.7167</td></tr><tr><th>14</th><td>suzuka</td><td>Suzuka</td><td>34.8431</td><td>136.541</td></tr><tr><th>15</th><td>yas_marina</td><td>Abu Dhabi</td><td>24.4672</td><td>54.6031</td></tr><tr><th>16</th><td>rodriguez</td><td>Mexico City</td><td>19.4042</td><td>-99.0907</td></tr><tr><th>17</th><td>zandvoort</td><td>Zandvoort</td><td>52.3888</td><td>4.54092</td></tr><tr><th>18</th><td>las_vegas</td><td>Nevada</td><td>36.1162</td><td>-115.174</td></tr><tr><th>19</th><td>americas</td><td>Austin</td><td>30.1328</td><td>-97.6411</td></tr><tr><th>20</th><td>red_bull_ring</td><td>Spielberg</td><td>47.2197</td><td>14.7647</td></tr><tr><th>21</th><td>baku</td><td>Baku</td><td>40.3725</td><td>49.8533</td></tr><tr><th>22</th><td>jeddah</td><td>Jeddah</td><td>21.6319</td><td>39.1044</td></tr><tr><th>23</th><td>losail</td><td>Al Daayen</td><td>25.49</td><td>51.4542</td></tr><tr><th>24</th><td>miami</td><td>Miami</td><td>25.9581</td><td>-80.2389</td></tr></tbody></table></div>"
      ],
      "text/latex": [
       "\\begin{tabular}{r|cccc}\n",
       "\t& circuitRef & location & lat & lng\\\\\n",
       "\t\\hline\n",
       "\t& String15 & String31 & Float64 & Float64\\\\\n",
       "\t\\hline\n",
       "\t1 & albert\\_park & Melbourne & -37.8497 & 144.968 \\\\\n",
       "\t2 & bahrain & Sakhir & 26.0325 & 50.5106 \\\\\n",
       "\t3 & catalunya & Montmeló & 41.57 & 2.26111 \\\\\n",
       "\t4 & monaco & Monte-Carlo & 43.7347 & 7.42056 \\\\\n",
       "\t5 & villeneuve & Montreal & 45.5 & -73.5228 \\\\\n",
       "\t6 & silverstone & Silverstone & 52.0786 & -1.01694 \\\\\n",
       "\t7 & hungaroring & Budapest & 47.5789 & 19.2486 \\\\\n",
       "\t8 & spa & Spa & 50.4372 & 5.97139 \\\\\n",
       "\t9 & monza & Monza & 45.6156 & 9.28111 \\\\\n",
       "\t10 & marina\\_bay & Marina Bay & 1.2914 & 103.864 \\\\\n",
       "\t11 & shanghai & Shanghai & 31.3389 & 121.22 \\\\\n",
       "\t12 & interlagos & São Paulo & -23.7036 & -46.6997 \\\\\n",
       "\t13 & imola & Imola & 44.3439 & 11.7167 \\\\\n",
       "\t14 & suzuka & Suzuka & 34.8431 & 136.541 \\\\\n",
       "\t15 & yas\\_marina & Abu Dhabi & 24.4672 & 54.6031 \\\\\n",
       "\t16 & rodriguez & Mexico City & 19.4042 & -99.0907 \\\\\n",
       "\t17 & zandvoort & Zandvoort & 52.3888 & 4.54092 \\\\\n",
       "\t18 & las\\_vegas & Nevada & 36.1162 & -115.174 \\\\\n",
       "\t19 & americas & Austin & 30.1328 & -97.6411 \\\\\n",
       "\t20 & red\\_bull\\_ring & Spielberg & 47.2197 & 14.7647 \\\\\n",
       "\t21 & baku & Baku & 40.3725 & 49.8533 \\\\\n",
       "\t22 & jeddah & Jeddah & 21.6319 & 39.1044 \\\\\n",
       "\t23 & losail & Al Daayen & 25.49 & 51.4542 \\\\\n",
       "\t24 & miami & Miami & 25.9581 & -80.2389 \\\\\n",
       "\\end{tabular}\n"
      ],
      "text/plain": [
       "\u001b[1m24×4 DataFrame\u001b[0m\n",
       "\u001b[1m Row \u001b[0m│\u001b[1m circuitRef    \u001b[0m\u001b[1m location    \u001b[0m\u001b[1m lat      \u001b[0m\u001b[1m lng        \u001b[0m\n",
       "\u001b[1m     \u001b[0m│\u001b[90m String15      \u001b[0m\u001b[90m String31    \u001b[0m\u001b[90m Float64  \u001b[0m\u001b[90m Float64    \u001b[0m\n",
       "─────┼──────────────────────────────────────────────────\n",
       "   1 │ albert_park    Melbourne    -37.8497   144.968\n",
       "   2 │ bahrain        Sakhir        26.0325    50.5106\n",
       "   3 │ catalunya      Montmeló      41.57       2.26111\n",
       "   4 │ monaco         Monte-Carlo   43.7347     7.42056\n",
       "   5 │ villeneuve     Montreal      45.5      -73.5228\n",
       "   6 │ silverstone    Silverstone   52.0786    -1.01694\n",
       "   7 │ hungaroring    Budapest      47.5789    19.2486\n",
       "   8 │ spa            Spa           50.4372     5.97139\n",
       "  ⋮  │       ⋮             ⋮          ⋮          ⋮\n",
       "  18 │ las_vegas      Nevada        36.1162  -115.174\n",
       "  19 │ americas       Austin        30.1328   -97.6411\n",
       "  20 │ red_bull_ring  Spielberg     47.2197    14.7647\n",
       "  21 │ baku           Baku          40.3725    49.8533\n",
       "  22 │ jeddah         Jeddah        21.6319    39.1044\n",
       "  23 │ losail         Al Daayen     25.49      51.4542\n",
       "  24 │ miami          Miami         25.9581   -80.2389\n",
       "\u001b[36m                                          9 rows omitted\u001b[0m"
      ]
     },
     "metadata": {},
     "output_type": "display_data"
    }
   ],
   "source": [
    "select!(all_df, \"circuitRef\", \"location\", \"lat\", \"lng\")\n",
    "\n",
    "#only keep rows for the races that we care about, i.e. 2024 schedule\n",
    "all_df[in(races_circuitref).(all_df.circuitRef), :]"
   ]
  },
  {
   "cell_type": "code",
   "execution_count": 5,
   "metadata": {},
   "outputs": [
    {
     "data": {
      "text/plain": [
       "12386.36377883742"
      ]
     },
     "metadata": {},
     "output_type": "display_data"
    }
   ],
   "source": [
    "using Geodesy\n",
    "\n",
    "# Gives distance between two circuits in km\n",
    "function dist(c1, c2)\n",
    "    circuit1 = all_df[c1, :]\n",
    "    circuit2 = all_df[c2, :]\n",
    "    lat1 = circuit1[:lat]\n",
    "    lng1 = circuit1[:lng]\n",
    "    lat2 = circuit2[:lat]\n",
    "    lng2 = circuit2[:lng]\n",
    "    return euclidean_distance(LLA(lat1, lng1, 0), LLA(lat2, lng2, 0)) / 1000\n",
    "end\n",
    "\n",
    "dist(1,12)"
   ]
  },
  {
   "cell_type": "code",
   "execution_count": 6,
   "metadata": {},
   "outputs": [
    {
     "data": {
      "text/plain": [
       "24×24 Matrix{Float64}:\n",
       "     0.0    6067.92  10361.5    12339.2    …   7556.33   10100.7    10082.2\n",
       "  6067.92      0.0    5818.24    9417.92       4922.78    5418.79   12100.1\n",
       " 10361.5    5818.24      0.0     4611.4        7542.94     447.152  10994.7\n",
       " 12339.2    9417.92   4611.4        0.0        9252.61    5017.04    9327.96\n",
       " 11597.7    7749.32   2536.63    2254.5        8118.92    2941.47   10454.3\n",
       " 12232.2    9109.4    4255.09     486.382  …   8937.29    4658.66    9644.26\n",
       " 12317.0   11632.9    9204.84    5699.13       9431.36    9461.91    8271.26\n",
       " 12320.5    9310.67   4630.56     592.452      8888.76    5021.37    9631.6\n",
       " 12365.8    9443.78   5024.18    1192.61       8671.2     5392.55    9750.33\n",
       " 12206.6    9011.25   4339.68     991.471      8548.98    4721.25    9940.26\n",
       "     ⋮                                     ⋱                        \n",
       "  7584.88   5116.5    7690.07    9296.91   …    225.276   7480.79   12643.6\n",
       "  7518.32   3711.89   6497.96    8867.44       1477.14    6227.66   12738.2\n",
       " 10912.9   12095.9   10191.0     8123.2       12682.3    10390.2     1663.49\n",
       " 11990.3   11861.4    9979.75    6760.91       9459.74   10202.2     8055.52\n",
       " 12236.1    9086.13   4478.12    1038.15       8540.79    4855.21    9928.25\n",
       " 12133.8    8862.43   3956.27     829.604  …   8737.31    4359.02    9843.62\n",
       "  7556.33   4922.78   7542.94    9252.61          0.0     7325.36   12668.7\n",
       " 10100.7    5418.79    447.152   5017.04       7325.36       0.0    11138.9\n",
       " 10082.2   12100.1   10994.7     9327.96      12668.7    11138.9        0.0"
      ]
     },
     "metadata": {},
     "output_type": "display_data"
    }
   ],
   "source": [
    "#create a matrix of distances between each circuit\n",
    "distance_matrix=[dist(i,j) for i in 1:24, j in 1:24]"
   ]
  },
  {
   "cell_type": "code",
   "execution_count": 7,
   "metadata": {},
   "outputs": [
    {
     "data": {
      "text/plain": [
       "powerset (generic function with 1 method)"
      ]
     },
     "metadata": {},
     "output_type": "display_data"
    }
   ],
   "source": [
    "function powerset(x::AbstractSet)   \n",
    "    result = Set([Set()])\n",
    "    for  elem in x, j in result\n",
    "        union!(result, Set([union(j,elem)]))\n",
    "    end\n",
    "    delete!(result, Set())\n",
    "    result\n",
    "end"
   ]
  },
  {
   "cell_type": "code",
   "execution_count": 8,
   "metadata": {},
   "outputs": [],
   "source": [
    "races = 15\n",
    "K = 6;"
   ]
  },
  {
   "cell_type": "code",
   "execution_count": 10,
   "metadata": {},
   "outputs": [],
   "source": [
    "V = Set(1:races)\n",
    "V_0 = setdiff(V, [1])\n",
    "all_S = powerset(V_0);"
   ]
  },
  {
   "cell_type": "code",
   "execution_count": 17,
   "metadata": {},
   "outputs": [],
   "source": [
    "for S in all_S\n",
    "    if length(S) < 2\n",
    "        delete!(all_S, S)\n",
    "    end\n",
    "    if length(S) > length(V) - 2\n",
    "        delete!(all_S, S)\n",
    "    end\n",
    "    if S == V_0\n",
    "        delete!(all_S, S)\n",
    "    end\n",
    "end"
   ]
  },
  {
   "cell_type": "code",
   "execution_count": 18,
   "metadata": {},
   "outputs": [
    {
     "name": "stdout",
     "output_type": "stream",
     "text": [
      "Set parameter Username\r\n",
      "Academic license - for non-commercial use only - expires 2023-08-17\r\n"
     ]
    }
   ],
   "source": [
    "model = Model(Gurobi.Optimizer)\n",
    "set_optimizer_attribute(model, \"OutputFlag\", 1)\n",
    "\n",
    "# variables\n",
    "@variable(model, x[1:races, 1:races], Bin)\n",
    "\n",
    "# constraints\n",
    "@constraint(model, only_one_in[j in V_0], sum(x[i, j] for i in V) == 1)\n",
    "@constraint(model, only_one_out[i in V_0], sum(x[i, j] for j in V) == 1) \n",
    "@constraint(model, no_self_connect[i in V], x[i, i] == 0)\n",
    "@constraint(model, K_petals_in, sum(x[i, 1] for i in V_0) == K)\n",
    "@constraint(model, K_petals_out, sum(x[1, j] for j in V_0) == K)\n",
    "\n",
    "for S in all_S\n",
    "    @constraint(model, sum(x[i, j] for i in S, j in S) <= length(S) - 1)\n",
    "end\n",
    "\n",
    "#objective\n",
    "@objective(model, Min, sum(sum(x[i, j] * distance_matrix[i, j] for i in V) for j in V));"
   ]
  },
  {
   "cell_type": "code",
   "execution_count": 19,
   "metadata": {},
   "outputs": [],
   "source": [
    "#latex_formulation(model)"
   ]
  },
  {
   "cell_type": "code",
   "execution_count": 20,
   "metadata": {},
   "outputs": [
    {
     "name": "stdout",
     "output_type": "stream",
     "text": [
      "Gurobi Optimizer version 9.5.2 build v9.5.2rc0 (win64)\r\n",
      "Thread count: 14 physical cores, 20 logical processors, using up to 20 threads\r\n",
      "Optimize a model with 15088 rows, 225 columns and 775672 nonzeros\r\n",
      "Model fingerprint: 0xc9ec05f4\r\n",
      "Variable types: 0 continuous, 225 integer (225 binary)\r\n",
      "Coefficient statistics:\r\n",
      "  Matrix range     [1e+00, 1e+00]\r\n",
      "  Objective range  [2e+02, 1e+04]\r\n",
      "  Bounds range     [0e+00, 0e+00]\r\n",
      "  RHS range        [1e+00, 1e+01]\r\n",
      "Found heuristic solution: objective 162973.08636\r\n",
      "Presolve removed 15 rows and 15 columns\r\n",
      "Presolve time: 0.76s\r\n",
      "Presolved: 15073 rows, 210 columns, 671330 nonzeros\r\n",
      "Variable types: 0 continuous, 210 integer (210 binary)\r\n",
      "\r\n",
      "Root relaxation: objective 1.204435e+05, 47 iterations, 0.22 seconds (0.34 work units)\r\n",
      "\r\n",
      "    Nodes    |    Current Node    |     Objective Bounds      |     Work\r\n",
      " Expl Unexpl |  Obj  Depth IntInf | Incumbent    BestBd   Gap | It/Node Time\r\n",
      "\r\n",
      "*    0     0               0    120443.51093 120443.511  0.00%     -    1s\r\n",
      "\r\n",
      "Explored 1 nodes (47 simplex iterations) in 1.17 seconds (0.96 work units)\r\n",
      "Thread count was 20 (of 20 available processors)\r\n",
      "\r\n",
      "Solution count 2: 120444 162973 \r\n",
      "\r\n",
      "Optimal solution found (tolerance 1.00e-04)\r\n",
      "Best objective 1.204435109340e+05, best bound 1.204435109340e+05, gap 0.0000%\r\n",
      "\r\n",
      "User-callback calls 200, time in user-callback 0.00 sec\r\n"
     ]
    }
   ],
   "source": [
    "optimize!(model)"
   ]
  },
  {
   "cell_type": "code",
   "execution_count": 21,
   "metadata": {},
   "outputs": [
    {
     "data": {
      "text/plain": [
       "120443.51093402033"
      ]
     },
     "metadata": {},
     "output_type": "display_data"
    }
   ],
   "source": [
    "objective_value(model)"
   ]
  },
  {
   "cell_type": "code",
   "execution_count": 22,
   "metadata": {},
   "outputs": [
    {
     "data": {
      "text/plain": [
       "15×15 Matrix{Float64}:\n",
       "  0.0   1.0   1.0  -0.0   1.0  -0.0  …  -0.0   1.0   0.0  -0.0  -0.0   1.0\n",
       "  1.0   0.0  -0.0  -0.0  -0.0  -0.0     -0.0  -0.0  -0.0  -0.0  -0.0  -0.0\n",
       "  1.0  -0.0   0.0  -0.0  -0.0  -0.0     -0.0  -0.0  -0.0  -0.0  -0.0  -0.0\n",
       " -0.0  -0.0  -0.0   0.0  -0.0   0.0     -0.0  -0.0   1.0  -0.0  -0.0  -0.0\n",
       "  1.0  -0.0  -0.0  -0.0   0.0  -0.0     -0.0  -0.0  -0.0  -0.0  -0.0  -0.0\n",
       " -0.0  -0.0  -0.0   1.0  -0.0   0.0  …  -0.0  -0.0  -0.0  -0.0   0.0  -0.0\n",
       "  1.0  -0.0  -0.0  -0.0  -0.0  -0.0     -0.0  -0.0  -0.0  -0.0  -0.0  -0.0\n",
       " -0.0  -0.0  -0.0   0.0  -0.0  -0.0      0.0  -0.0  -0.0   0.0   1.0  -0.0\n",
       "  0.0  -0.0  -0.0  -0.0  -0.0  -0.0     -0.0  -0.0  -0.0   0.0  -0.0  -0.0\n",
       " -0.0  -0.0  -0.0  -0.0  -0.0  -0.0      0.0  -0.0  -0.0   1.0  -0.0  -0.0\n",
       "  0.0  -0.0  -0.0  -0.0  -0.0  -0.0  …   1.0   0.0  -0.0  -0.0   0.0  -0.0\n",
       "  1.0  -0.0  -0.0   0.0  -0.0  -0.0     -0.0  -0.0   0.0  -0.0  -0.0  -0.0\n",
       " -0.0  -0.0  -0.0  -0.0  -0.0  -0.0      0.0  -0.0  -0.0   0.0  -0.0  -0.0\n",
       " -0.0  -0.0  -0.0  -0.0  -0.0   1.0     -0.0  -0.0  -0.0  -0.0   0.0  -0.0\n",
       "  1.0  -0.0  -0.0  -0.0  -0.0  -0.0     -0.0  -0.0  -0.0  -0.0  -0.0   0.0"
      ]
     },
     "metadata": {},
     "output_type": "display_data"
    }
   ],
   "source": [
    "x_opt = value.(x)"
   ]
  },
  {
   "cell_type": "code",
   "execution_count": null,
   "metadata": {},
   "outputs": [],
   "source": []
  }
 ],
 "metadata": {
  "kernelspec": {
   "display_name": "Julia 1.8.0",
   "language": "julia",
   "name": "julia-1.8"
  },
  "language_info": {
   "file_extension": ".jl",
   "mimetype": "application/julia",
   "name": "julia",
   "version": "1.8.0"
  },
  "orig_nbformat": 4
 },
 "nbformat": 4,
 "nbformat_minor": 2
}
