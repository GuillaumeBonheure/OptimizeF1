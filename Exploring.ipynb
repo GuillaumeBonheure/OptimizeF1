{
 "cells": [
  {
   "cell_type": "code",
   "execution_count": 1,
   "metadata": {},
   "outputs": [],
   "source": [
    "using DataFrames, CSV\n",
    "#using JLD\n",
    "using JuMP, Gurobi\n",
    "using LinearAlgebra, Random, Printf, StatsBase, CategoricalArrays\n",
    "using Plots, StatsPlots\n",
    "using Distributions"
   ]
  },
  {
   "cell_type": "code",
   "execution_count": 2,
   "metadata": {},
   "outputs": [],
   "source": [
    "races = [\"Sakhir\", \"Jeddah\", \"Melbourne\", \"Shanghai\", \"Baku\", \"Miami\", \"Imola\", \"Monaco\", \"Barcelona\", \"Montreal\", \"Spielberg\", \"Silverstone\", \"Budapest\", \"Spa\", \"Zandvoort\", \"Monza\", \"Singapore\", \"Suzuka\", \"Lusail\", \"Austin\", \"Mexico City\", \"Sao Paulo\", \"Las Vegas\",\"Yas Marina\"]\n",
    "races_circuitref = [\"bahrain\", \"jeddah\", \"albert_park\", \"shanghai\", \"baku\", \"miami\", \"imola\", \"monaco\", \"catalunya\", \"villeneuve\", \"red_bull_ring\", \"silverstone\", \"hungaroring\", \"spa\", \"zandvoort\", \"monza\", \"marina_bay\", \"suzuka\", \"losail\", \"americas\", \"rodriguez\", \"interlagos\", \"las_vegas\", \"yas_marina\"];"
   ]
  },
  {
   "cell_type": "code",
   "execution_count": 3,
   "metadata": {},
   "outputs": [
    {
     "data": {
      "text/html": [
       "<div class=\"data-frame\"><p>5 rows × 9 columns (omitted printing of 4 columns)</p><table class=\"data-frame\"><thead><tr><th></th><th>circuitId</th><th>circuitRef</th><th>name</th><th>location</th><th>country</th></tr><tr><th></th><th title=\"Int64\">Int64</th><th title=\"String15\">String15</th><th title=\"String\">String</th><th title=\"String31\">String31</th><th title=\"String15\">String15</th></tr></thead><tbody><tr><th>1</th><td>1</td><td>albert_park</td><td>Albert Park Grand Prix Circuit</td><td>Melbourne</td><td>Australia</td></tr><tr><th>2</th><td>2</td><td>sepang</td><td>Sepang International Circuit</td><td>Kuala Lumpur</td><td>Malaysia</td></tr><tr><th>3</th><td>3</td><td>bahrain</td><td>Bahrain International Circuit</td><td>Sakhir</td><td>Bahrain</td></tr><tr><th>4</th><td>4</td><td>catalunya</td><td>Circuit de Barcelona-Catalunya</td><td>Montmeló</td><td>Spain</td></tr><tr><th>5</th><td>5</td><td>istanbul</td><td>Istanbul Park</td><td>Istanbul</td><td>Turkey</td></tr></tbody></table></div>"
      ],
      "text/latex": [
       "\\begin{tabular}{r|cccccc}\n",
       "\t& circuitId & circuitRef & name & location & country & \\\\\n",
       "\t\\hline\n",
       "\t& Int64 & String15 & String & String31 & String15 & \\\\\n",
       "\t\\hline\n",
       "\t1 & 1 & albert\\_park & Albert Park Grand Prix Circuit & Melbourne & Australia & $\\dots$ \\\\\n",
       "\t2 & 2 & sepang & Sepang International Circuit & Kuala Lumpur & Malaysia & $\\dots$ \\\\\n",
       "\t3 & 3 & bahrain & Bahrain International Circuit & Sakhir & Bahrain & $\\dots$ \\\\\n",
       "\t4 & 4 & catalunya & Circuit de Barcelona-Catalunya & Montmeló & Spain & $\\dots$ \\\\\n",
       "\t5 & 5 & istanbul & Istanbul Park & Istanbul & Turkey & $\\dots$ \\\\\n",
       "\\end{tabular}\n"
      ],
      "text/plain": [
       "\u001b[1m5×9 DataFrame\u001b[0m\n",
       "\u001b[1m Row \u001b[0m│\u001b[1m circuitId \u001b[0m\u001b[1m circuitRef  \u001b[0m\u001b[1m name                           \u001b[0m\u001b[1m location     \u001b[0m\u001b[1m c\u001b[0m ⋯\n",
       "\u001b[1m     \u001b[0m│\u001b[90m Int64     \u001b[0m\u001b[90m String15    \u001b[0m\u001b[90m String                         \u001b[0m\u001b[90m String31     \u001b[0m\u001b[90m S\u001b[0m ⋯\n",
       "─────┼──────────────────────────────────────────────────────────────────────────\n",
       "   1 │         1  albert_park  Albert Park Grand Prix Circuit  Melbourne     A ⋯\n",
       "   2 │         2  sepang       Sepang International Circuit    Kuala Lumpur  M\n",
       "   3 │         3  bahrain      Bahrain International Circuit   Sakhir        B\n",
       "   4 │         4  catalunya    Circuit de Barcelona-Catalunya  Montmeló      S\n",
       "   5 │         5  istanbul     Istanbul Park                   Istanbul      T ⋯\n",
       "\u001b[36m                                                               5 columns omitted\u001b[0m"
      ]
     },
     "metadata": {},
     "output_type": "display_data"
    }
   ],
   "source": [
    "#import Data\n",
    "all_df = CSV.read(\"circuits.csv\", DataFrame)\n",
    "first(all_df,5)"
   ]
  },
  {
   "cell_type": "code",
   "execution_count": 4,
   "metadata": {},
   "outputs": [
    {
     "data": {
      "text/html": [
       "<div class=\"data-frame\"><p>24 rows × 4 columns</p><table class=\"data-frame\"><thead><tr><th></th><th>circuitRef</th><th>location</th><th>lat</th><th>lng</th></tr><tr><th></th><th title=\"String15\">String15</th><th title=\"String31\">String31</th><th title=\"Float64\">Float64</th><th title=\"Float64\">Float64</th></tr></thead><tbody><tr><th>1</th><td>albert_park</td><td>Melbourne</td><td>-37.8497</td><td>144.968</td></tr><tr><th>2</th><td>bahrain</td><td>Sakhir</td><td>26.0325</td><td>50.5106</td></tr><tr><th>3</th><td>catalunya</td><td>Montmeló</td><td>41.57</td><td>2.26111</td></tr><tr><th>4</th><td>monaco</td><td>Monte-Carlo</td><td>43.7347</td><td>7.42056</td></tr><tr><th>5</th><td>villeneuve</td><td>Montreal</td><td>45.5</td><td>-73.5228</td></tr><tr><th>6</th><td>silverstone</td><td>Silverstone</td><td>52.0786</td><td>-1.01694</td></tr><tr><th>7</th><td>hungaroring</td><td>Budapest</td><td>47.5789</td><td>19.2486</td></tr><tr><th>8</th><td>spa</td><td>Spa</td><td>50.4372</td><td>5.97139</td></tr><tr><th>9</th><td>monza</td><td>Monza</td><td>45.6156</td><td>9.28111</td></tr><tr><th>10</th><td>marina_bay</td><td>Marina Bay</td><td>1.2914</td><td>103.864</td></tr><tr><th>11</th><td>shanghai</td><td>Shanghai</td><td>31.3389</td><td>121.22</td></tr><tr><th>12</th><td>interlagos</td><td>São Paulo</td><td>-23.7036</td><td>-46.6997</td></tr><tr><th>13</th><td>imola</td><td>Imola</td><td>44.3439</td><td>11.7167</td></tr><tr><th>14</th><td>suzuka</td><td>Suzuka</td><td>34.8431</td><td>136.541</td></tr><tr><th>15</th><td>yas_marina</td><td>Abu Dhabi</td><td>24.4672</td><td>54.6031</td></tr><tr><th>16</th><td>rodriguez</td><td>Mexico City</td><td>19.4042</td><td>-99.0907</td></tr><tr><th>17</th><td>zandvoort</td><td>Zandvoort</td><td>52.3888</td><td>4.54092</td></tr><tr><th>18</th><td>las_vegas</td><td>Nevada</td><td>36.1162</td><td>-115.174</td></tr><tr><th>19</th><td>americas</td><td>Austin</td><td>30.1328</td><td>-97.6411</td></tr><tr><th>20</th><td>red_bull_ring</td><td>Spielberg</td><td>47.2197</td><td>14.7647</td></tr><tr><th>21</th><td>baku</td><td>Baku</td><td>40.3725</td><td>49.8533</td></tr><tr><th>22</th><td>jeddah</td><td>Jeddah</td><td>21.6319</td><td>39.1044</td></tr><tr><th>23</th><td>losail</td><td>Al Daayen</td><td>25.49</td><td>51.4542</td></tr><tr><th>24</th><td>miami</td><td>Miami</td><td>25.9581</td><td>-80.2389</td></tr></tbody></table></div>"
      ],
      "text/latex": [
       "\\begin{tabular}{r|cccc}\n",
       "\t& circuitRef & location & lat & lng\\\\\n",
       "\t\\hline\n",
       "\t& String15 & String31 & Float64 & Float64\\\\\n",
       "\t\\hline\n",
       "\t1 & albert\\_park & Melbourne & -37.8497 & 144.968 \\\\\n",
       "\t2 & bahrain & Sakhir & 26.0325 & 50.5106 \\\\\n",
       "\t3 & catalunya & Montmeló & 41.57 & 2.26111 \\\\\n",
       "\t4 & monaco & Monte-Carlo & 43.7347 & 7.42056 \\\\\n",
       "\t5 & villeneuve & Montreal & 45.5 & -73.5228 \\\\\n",
       "\t6 & silverstone & Silverstone & 52.0786 & -1.01694 \\\\\n",
       "\t7 & hungaroring & Budapest & 47.5789 & 19.2486 \\\\\n",
       "\t8 & spa & Spa & 50.4372 & 5.97139 \\\\\n",
       "\t9 & monza & Monza & 45.6156 & 9.28111 \\\\\n",
       "\t10 & marina\\_bay & Marina Bay & 1.2914 & 103.864 \\\\\n",
       "\t11 & shanghai & Shanghai & 31.3389 & 121.22 \\\\\n",
       "\t12 & interlagos & São Paulo & -23.7036 & -46.6997 \\\\\n",
       "\t13 & imola & Imola & 44.3439 & 11.7167 \\\\\n",
       "\t14 & suzuka & Suzuka & 34.8431 & 136.541 \\\\\n",
       "\t15 & yas\\_marina & Abu Dhabi & 24.4672 & 54.6031 \\\\\n",
       "\t16 & rodriguez & Mexico City & 19.4042 & -99.0907 \\\\\n",
       "\t17 & zandvoort & Zandvoort & 52.3888 & 4.54092 \\\\\n",
       "\t18 & las\\_vegas & Nevada & 36.1162 & -115.174 \\\\\n",
       "\t19 & americas & Austin & 30.1328 & -97.6411 \\\\\n",
       "\t20 & red\\_bull\\_ring & Spielberg & 47.2197 & 14.7647 \\\\\n",
       "\t21 & baku & Baku & 40.3725 & 49.8533 \\\\\n",
       "\t22 & jeddah & Jeddah & 21.6319 & 39.1044 \\\\\n",
       "\t23 & losail & Al Daayen & 25.49 & 51.4542 \\\\\n",
       "\t24 & miami & Miami & 25.9581 & -80.2389 \\\\\n",
       "\\end{tabular}\n"
      ],
      "text/plain": [
       "\u001b[1m24×4 DataFrame\u001b[0m\n",
       "\u001b[1m Row \u001b[0m│\u001b[1m circuitRef    \u001b[0m\u001b[1m location    \u001b[0m\u001b[1m lat      \u001b[0m\u001b[1m lng        \u001b[0m\n",
       "\u001b[1m     \u001b[0m│\u001b[90m String15      \u001b[0m\u001b[90m String31    \u001b[0m\u001b[90m Float64  \u001b[0m\u001b[90m Float64    \u001b[0m\n",
       "─────┼──────────────────────────────────────────────────\n",
       "   1 │ albert_park    Melbourne    -37.8497   144.968\n",
       "   2 │ bahrain        Sakhir        26.0325    50.5106\n",
       "   3 │ catalunya      Montmeló      41.57       2.26111\n",
       "   4 │ monaco         Monte-Carlo   43.7347     7.42056\n",
       "   5 │ villeneuve     Montreal      45.5      -73.5228\n",
       "   6 │ silverstone    Silverstone   52.0786    -1.01694\n",
       "   7 │ hungaroring    Budapest      47.5789    19.2486\n",
       "   8 │ spa            Spa           50.4372     5.97139\n",
       "  ⋮  │       ⋮             ⋮          ⋮          ⋮\n",
       "  18 │ las_vegas      Nevada        36.1162  -115.174\n",
       "  19 │ americas       Austin        30.1328   -97.6411\n",
       "  20 │ red_bull_ring  Spielberg     47.2197    14.7647\n",
       "  21 │ baku           Baku          40.3725    49.8533\n",
       "  22 │ jeddah         Jeddah        21.6319    39.1044\n",
       "  23 │ losail         Al Daayen     25.49      51.4542\n",
       "  24 │ miami          Miami         25.9581   -80.2389\n",
       "\u001b[36m                                          9 rows omitted\u001b[0m"
      ]
     },
     "metadata": {},
     "output_type": "display_data"
    }
   ],
   "source": [
    "select!(all_df, \"circuitRef\", \"location\", \"lat\", \"lng\")\n",
    "\n",
    "#only keep rows for the races that we care about, i.e. 2024 schedule\n",
    "all_df[in(races_circuitref).(all_df.circuitRef), :]"
   ]
  },
  {
   "cell_type": "code",
   "execution_count": 5,
   "metadata": {},
   "outputs": [
    {
     "data": {
      "text/plain": [
       "12386.36377883742"
      ]
     },
     "metadata": {},
     "output_type": "display_data"
    }
   ],
   "source": [
    "using Geodesy\n",
    "\n",
    "# Gives distance between two circuits in km\n",
    "function dist(c1, c2)\n",
    "    circuit1 = all_df[c1, :]\n",
    "    circuit2 = all_df[c2, :]\n",
    "    lat1 = circuit1[:lat]\n",
    "    lng1 = circuit1[:lng]\n",
    "    lat2 = circuit2[:lat]\n",
    "    lng2 = circuit2[:lng]\n",
    "    return euclidean_distance(LLA(lat1, lng1, 0), LLA(lat2, lng2, 0)) / 1000\n",
    "end\n",
    "\n",
    "dist(1,12)"
   ]
  },
  {
   "cell_type": "code",
   "execution_count": 6,
   "metadata": {},
   "outputs": [
    {
     "data": {
      "text/plain": [
       "24×24 Matrix{Float64}:\n",
       "     0.0    6067.92  10361.5    12339.2    …   7556.33   10100.7    10082.2\n",
       "  6067.92      0.0    5818.24    9417.92       4922.78    5418.79   12100.1\n",
       " 10361.5    5818.24      0.0     4611.4        7542.94     447.152  10994.7\n",
       " 12339.2    9417.92   4611.4        0.0        9252.61    5017.04    9327.96\n",
       " 11597.7    7749.32   2536.63    2254.5        8118.92    2941.47   10454.3\n",
       " 12232.2    9109.4    4255.09     486.382  …   8937.29    4658.66    9644.26\n",
       " 12317.0   11632.9    9204.84    5699.13       9431.36    9461.91    8271.26\n",
       " 12320.5    9310.67   4630.56     592.452      8888.76    5021.37    9631.6\n",
       " 12365.8    9443.78   5024.18    1192.61       8671.2     5392.55    9750.33\n",
       " 12206.6    9011.25   4339.68     991.471      8548.98    4721.25    9940.26\n",
       "     ⋮                                     ⋱                        \n",
       "  7584.88   5116.5    7690.07    9296.91   …    225.276   7480.79   12643.6\n",
       "  7518.32   3711.89   6497.96    8867.44       1477.14    6227.66   12738.2\n",
       " 10912.9   12095.9   10191.0     8123.2       12682.3    10390.2     1663.49\n",
       " 11990.3   11861.4    9979.75    6760.91       9459.74   10202.2     8055.52\n",
       " 12236.1    9086.13   4478.12    1038.15       8540.79    4855.21    9928.25\n",
       " 12133.8    8862.43   3956.27     829.604  …   8737.31    4359.02    9843.62\n",
       "  7556.33   4922.78   7542.94    9252.61          0.0     7325.36   12668.7\n",
       " 10100.7    5418.79    447.152   5017.04       7325.36       0.0    11138.9\n",
       " 10082.2   12100.1   10994.7     9327.96      12668.7    11138.9        0.0"
      ]
     },
     "metadata": {},
     "output_type": "display_data"
    }
   ],
   "source": [
    "#create a matrix of distances between each circuit\n",
    "distance_matrix=[dist(i,j) for i in 1:24, j in 1:24]"
   ]
  },
  {
   "cell_type": "code",
   "execution_count": 7,
   "metadata": {},
   "outputs": [],
   "source": [
    "function powerset(x::AbstractSet)   \n",
    "    result = Set([Set()])\n",
    "    for  elem in x, j in result\n",
    "        union!(result, Set([union(j,elem)]))\n",
    "    end\n",
    "    delete!(result, Set())\n",
    "    result\n",
    "end;"
   ]
  },
  {
   "cell_type": "code",
   "execution_count": 8,
   "metadata": {},
   "outputs": [],
   "source": [
    "\"\"\"\n",
    "Returns a `DataFrame` with the values of the variables from the JuMP container `var`.\n",
    "The column names of the `DataFrame` can be specified for the indexing columns in `dim_names`,\n",
    "and the name of the data value column by a Symbol `value_col` e.g. :Value\n",
    "\"\"\"\n",
    "function convert_jump_container_to_df(var::JuMP.Containers.DenseAxisArray;\n",
    "    dim_names::Vector{Symbol}=Vector{Symbol}(),\n",
    "    value_col::Symbol=:Value)\n",
    "\n",
    "    if isempty(var)\n",
    "        return DataFrame()\n",
    "    end\n",
    "\n",
    "    if length(dim_names) == 0\n",
    "        dim_names = [Symbol(\"dim$i\") for i in 1:length(var.axes)]\n",
    "    end\n",
    "\n",
    "    if length(dim_names) != length(var.axes)\n",
    "        throw(ArgumentError(\"Length of given name list does not fit the number of variable dimensions\"))\n",
    "    end\n",
    "\n",
    "    tup_dim = (dim_names...,)\n",
    "\n",
    "    # With a product over all axis sets of size M, form an Mx1 Array of all indices to the JuMP container `var`\n",
    "    ind = reshape([collect(k[i] for i in 1:length(dim_names)) for k in Base.Iterators.product(var.axes...)],:,1)\n",
    "\n",
    "    var_val  = value.(var)\n",
    "\n",
    "    df = DataFrame([merge(NamedTuple{tup_dim}(ind[i]), NamedTuple{(value_col,)}(var_val[(ind[i]...,)...])) for i in 1:length(ind)])\n",
    "\n",
    "    return df\n",
    "end;"
   ]
  },
  {
   "cell_type": "code",
   "execution_count": 9,
   "metadata": {},
   "outputs": [
    {
     "data": {
      "text/plain": [
       "2"
      ]
     },
     "metadata": {},
     "output_type": "display_data"
    }
   ],
   "source": [
    "races = 10\n",
    "home = 1\n",
    "TH = 1\n",
    "DH = 2"
   ]
  },
  {
   "cell_type": "code",
   "execution_count": 10,
   "metadata": {},
   "outputs": [],
   "source": [
    "V = Set(1:races)\n",
    "V_0 = setdiff(V, [home])\n",
    "all_S = powerset(V_0);"
   ]
  },
  {
   "cell_type": "code",
   "execution_count": 11,
   "metadata": {},
   "outputs": [],
   "source": [
    "for S in all_S\n",
    "    if length(S) < 2\n",
    "        delete!(all_S, S)\n",
    "    end\n",
    "    if length(S) > length(V) - 2\n",
    "        delete!(all_S, S)\n",
    "    end\n",
    "    if S == V_0\n",
    "        delete!(all_S, S)\n",
    "    end\n",
    "end"
   ]
  },
  {
   "cell_type": "code",
   "execution_count": 13,
   "metadata": {},
   "outputs": [
    {
     "name": "stdout",
     "output_type": "stream",
     "text": [
      "Set parameter Username\r\n",
      "Academic license - for non-commercial use only - expires 2023-08-17\r\n",
      "Set parameter Threads to value 20\r\n"
     ]
    }
   ],
   "source": [
    "model = Model(Gurobi.Optimizer)\n",
    "set_optimizer_attribute(model, \"OutputFlag\", 1)\n",
    "set_optimizer_attribute(model, \"Threads\", 20)\n",
    "\n",
    "# variables\n",
    "@variable(model, x[i in V, j in V], Bin)\n",
    "@variable(model, subloops >= 1)\n",
    "@variable(model, double_header[i in V_0, j in V_0], Bin)\n",
    "@variable(model, triple_header[i in V_0, j in V_0, q in V_0], Bin)\n",
    "\n",
    "# constraints\n",
    "# each circuit can only be visited once\n",
    "@constraint(model, only_one_in[j in V_0], sum(x[i, j] for i in V) == 1)\n",
    "@constraint(model, only_one_out[i in V_0], sum(x[i, j] for j in V) == 1) \n",
    "\n",
    "# we cannot go from a circuit to itself\n",
    "@constraint(model, no_self_connect[i in V], x[i, i] == 0)\n",
    "\n",
    "# we must start and end at home and the number of loops away from home is subloops\n",
    "@constraint(model, K_petals_in, sum(x[i, 1] for i in V_0) == subloops)\n",
    "@constraint(model, K_petals_out, sum(x[1, j] for j in V_0) == subloops)\n",
    "\n",
    "# no subloops that do not connect to home\n",
    "for S in all_S\n",
    "    @constraint(model, sum(x[i, j] for i in S, j in S) <= length(S) - 1)\n",
    "end\n",
    "\n",
    "# define double_header as: \n",
    "# double_header[i, j] == 1 <=> x[home, i] == 1 and x[i, j] == 1 and x[j, home] == 1\n",
    "@constraint(model, [i in V_0, j in setdiff(V_0, Set([i]))], double_header[i, j] <= x[home, i])\n",
    "@constraint(model, [i in V_0, j in setdiff(V_0, Set([i]))], double_header[i, j] <= x[i, j])\n",
    "@constraint(model, [i in V_0, j in setdiff(V_0, Set([i]))], double_header[i, j] <= x[j, home])\n",
    "@constraint(model, [i in V_0, j in setdiff(V_0, Set([i]))], double_header[i, j] >= x[home, i] + x[i, j] + x[j, home] - 2)\n",
    "\n",
    "# we want at most DH double-headers\n",
    "@constraint(model, max_DH_doubleheaders, sum(double_header[i, j] for i in V_0, j in setdiff(V_0, Set([i]))) <= DH)\n",
    "\n",
    "# define triple_header\n",
    "# triple_header[i, j] == 1 <=> x[home, i] == 1 and x[i, j] == 1 and x[j, q] == 1 and x[q, home] == 1\n",
    "@constraint(model, [i in V_0, j in setdiff(V_0, Set([i])), q in setdiff(V_0, Set([i, j]))], triple_header[i, j, q] <= x[home, i])\n",
    "@constraint(model, [i in V_0, j in setdiff(V_0, Set([i])), q in setdiff(V_0, Set([i, j]))], triple_header[i, j, q] <= x[i, j])\n",
    "@constraint(model, [i in V_0, j in setdiff(V_0, Set([i])), q in setdiff(V_0, Set([i, j]))], triple_header[i, j, q] <= x[j, q])\n",
    "@constraint(model, [i in V_0, j in setdiff(V_0, Set([i])), q in setdiff(V_0, Set([i, j]))], triple_header[i, j, q] <= x[q, home])\n",
    "@constraint(model, [i in V_0, j in setdiff(V_0, Set([i])), q in setdiff(V_0, Set([i, j]))], triple_header[i, j, q] >= x[home, i] + x[i, j] + x[j, q] + x[q, home] - 3)\n",
    "\n",
    "# we want at most TH triple-headers\n",
    "@constraint(model, max_TH_tripleheaders, sum(triple_header[i, j, q] for i in V_0, j in setdiff(V_0, Set([i])), q in setdiff(V_0, Set([i, j]))) <= TH)\n",
    "\n",
    "# we want at most triple-headers, so no more than 3 consecutive races\n",
    "@constraint(model, max_tripleheaders[i in V_0, j in setdiff(V_0, Set([i])), q in setdiff(V_0, Set([i, j])), r in setdiff(V_0, Set([i, j, q]))], x[home, i] + x[i, j] + x[j, q] + x[q, r] <= 3)\n",
    "\n",
    "#objective\n",
    "@objective(model, Min, sum(sum(x[i, j] * distance_matrix[i, j] for i in V) for j in V));"
   ]
  },
  {
   "cell_type": "code",
   "execution_count": 90,
   "metadata": {},
   "outputs": [],
   "source": [
    "#latex_formulation(model)"
   ]
  },
  {
   "cell_type": "code",
   "execution_count": 14,
   "metadata": {},
   "outputs": [
    {
     "name": "stdout",
     "output_type": "stream",
     "text": [
      "Set parameter Threads to value 20\r\n",
      "Gurobi Optimizer version 9.5.2 build v9.5.2rc0 (win64)\r\n",
      "Thread count: 14 physical cores, 20 logical processors, using up to 20 threads\r\n",
      "Optimize a model with 6365 rows, 911 columns and 31584 nonzeros\r\n",
      "Model fingerprint: 0xbd45a12c\r\n",
      "Variable types: 1 continuous, 910 integer (910 binary)\r\n",
      "Coefficient statistics:\r\n",
      "  Matrix range     [1e+00, 1e+00]\r\n",
      "  Objective range  [5e+02, 1e+04]\r\n",
      "  Bounds range     [1e+00, 1e+00]\r\n",
      "  RHS range        [1e+00, 7e+00]\r\n",
      "Presolve removed 505 rows and 244 columns\r\n",
      "Presolve time: 0.08s\r\n",
      "Presolved: 5860 rows, 667 columns, 28775 nonzeros\r\n",
      "Variable types: 0 continuous, 667 integer (666 binary)\r\n",
      "Found heuristic solution: objective 203616.95556\r\n",
      "\r\n",
      "Root relaxation: objective 3.588666e+04, 29 iterations, 0.01 seconds (0.01 work units)\r\n",
      "\r\n",
      "    Nodes    |    Current Node    |     Objective Bounds      |     Work\r\n",
      " Expl Unexpl |  Obj  Depth IntInf | Incumbent    BestBd   Gap | It/Node Time\r\n",
      "\r\n",
      "     0     0 35886.6580    0   20 203616.956 35886.6580  82.4%     -    0s\r\n",
      "H    0     0                    129511.91619 35886.6580  72.3%     -    0s\r\n",
      "     0     0 35900.4333    0   23 129511.916 35900.4333  72.3%     -    0s\r\n",
      "H    0     0                    114391.01542 35900.4333  68.6%     -    0s\r\n",
      "H    0     0                    112211.40189 35900.4333  68.0%     -    0s\r\n",
      "     0     0 36306.9386    0   20 112211.402 36306.9386  67.6%     -    0s\r\n",
      "H    0     0                    112036.08608 36306.9386  67.6%     -    0s\r\n",
      "     0     0 36398.5010    0   23 112036.086 36398.5010  67.5%     -    0s\r\n",
      "     0     0 36451.9202    0   22 112036.086 36451.9202  67.5%     -    0s\r\n",
      "     0     0 36478.7835    0   24 112036.086 36478.7835  67.4%     -    0s\r\n",
      "     0     0 36578.3808    0   23 112036.086 36578.3808  67.4%     -    0s\r\n",
      "     0     0 36696.8375    0   22 112036.086 36696.8375  67.2%     -    0s\r\n",
      "     0     0 36739.5706    0   22 112036.086 36739.5706  67.2%     -    0s\r\n",
      "     0     2 36739.5706    0   22 112036.086 36739.5706  67.2%     -    0s\r\n",
      "  4603  1972 53440.8043   15   22 112036.086 39743.0037  64.5%   3.8   30s\r\n",
      "  4759  2103 39743.0037   21    8 112036.086 39743.0037  64.5%   3.8   35s\r\n",
      " 11645  3078 infeasible   35      112036.086 40035.5228  64.3%   4.2   40s\r\n",
      " 19854  6160 43052.9747   28   15 112036.086 40972.1962  63.4%   4.1   45s\r\n",
      " 23088  7342     cutoff   44      112036.086 41362.1793  63.1%   4.2  272s\r\n",
      " 23561  7768 46420.9571   34   10 112036.086 41423.7003  63.0%   4.2  279s\r\n",
      " 24766  8072 48596.3534   30   12 112036.086 41569.8250  62.9%   4.2  281s\r\n",
      " 28147  8851 65692.1636   33    9 112036.086 42162.3313  62.4%   4.5  286s\r\n",
      " 31376 10977 70310.1903   23    6 112036.086 42586.1536  62.0%   4.8  290s\r\n",
      " 42190 13783 72140.4984   28   16 112036.086 43332.8336  61.3%   4.6  296s\r\n",
      " 46517 13880 60338.2649   40   22 112036.086 43599.5130  61.1%   4.6 1005s\r\n",
      " 46523 13884 48918.6766   41   37 112036.086 43599.5130  61.1%   4.6 1010s\r\n",
      " 46525 13885 49428.5954   40   37 112036.086 43599.5130  61.1%   4.6 1016s\r\n",
      " 46982 14085 48257.7786   40   11 112036.086 43599.5130  61.1%   4.6 1020s\r\n",
      " 49502 14358 infeasible   40      112036.086 43599.5130  61.1%   4.7 1025s\r\n",
      " 56030 15061 47353.5551   43   11 112036.086 43599.5130  61.1%   4.6 1030s\r\n",
      " 62946 15070 infeasible   44      112036.086 43599.5130  61.1%   4.6 1035s\r\n",
      " 69522 15216 infeasible   51      112036.086 43599.5130  61.1%   4.5 1356s\r\n",
      " 75088 15436 54933.3522   40   11 112036.086 43599.5130  61.1%   4.5 1360s\r\n",
      " 81788 14710 47006.2188   47   14 112036.086 43599.5130  61.1%   4.5 1365s\r\n",
      " 88399 14285 44583.4962   61   18 112036.086 43599.5130  61.1%   4.5 1371s\r\n",
      " 93877 14804 infeasible   58      112036.086 43798.3344  60.9%   4.4 1668s\r\n",
      " 94573 16731 45443.2422   40   13 112036.086 43861.1021  60.9%   4.5 1673s\r\n",
      " 104425 17555 45541.0022   47    8 112036.086 44387.0505  60.4%   4.4 1676s\r\n",
      " 112290 18960 89065.5882   49    6 112036.086 44740.2691  60.1%   4.4 1680s\r\n",
      " 117315 19363 infeasible   47      112036.086 44943.3838  59.9%   4.3 1996s\r\n",
      " 117927 21789 52199.1905   47   13 112036.086 44993.7626  59.8%   4.4 2002s\r\n",
      " 130827 21795 infeasible   42      112036.086 45489.0773  59.4%   4.3 2005s\r\n",
      " 137841 23127 infeasible   54      112036.086 45790.8568  59.1%   4.3 2010s\r\n",
      " 143464 23511     cutoff   49      112036.086 46004.3087  58.9%   4.3 2323s\r\n",
      " 144046 25496 73643.1788   50   10 112036.086 46049.0877  58.9%   4.3 2329s\r\n",
      " 156554 25419 103001.810   47   10 112036.086 46500.3681  58.5%   4.2 2330s\r\n",
      " 158963 25698 54514.3960   47    8 112036.086 46735.3757  58.3%   4.3 2335s\r\n",
      " 168915 26194 96223.4364   59    9 112036.086 47227.2563  57.8%   4.2 2652s\r\n",
      " 169597 27336 infeasible   52      112036.086 47309.5502  57.8%   4.3 2656s\r\n",
      " 181285 27038 48447.0613   45    8 112036.086 47890.6493  57.3%   4.2 2660s\r\n",
      " 185000 27576 50312.4172   37    8 112036.086 48152.6626  57.0%   4.3 2665s\r\n",
      " 194606 27745 infeasible   46      112036.086 48691.4382  56.5%   4.2 2980s\r\n",
      " 199384 28315 62419.6492   45   13 112036.086 49052.1516  56.2%   4.3 2986s\r\n",
      " 209436 28296 infeasible   55      112036.086 49596.5121  55.7%   4.2 2990s\r\n",
      " 216769 28549 infeasible   49      112036.086 50031.2103  55.3%   4.2 2995s\r\n",
      " 220432 28724 infeasible   49      112036.086 50203.0788  55.2%   4.2 3302s\r\n",
      " 221101 29784 100510.996   58   12 112036.086 50304.8185  55.1%   4.2 3307s\r\n",
      " 232739 29548 infeasible   61      112036.086 50908.6190  54.6%   4.2 3310s\r\n",
      " 236849 29625 52507.5832   42    9 112036.086 51296.7973  54.2%   4.2 3315s\r\n",
      " 242660 30151 52302.3130   42    6 112036.086 51758.3849  53.8%   4.2 3321s\r\n",
      " 245788 30080 infeasible   45      112036.086 51932.8946  53.6%   4.2 3627s\r\n",
      " 246508 30136 53357.7146   58   15 112036.086 51972.8403  53.6%   4.2 3630s\r\n",
      " 256532 30951 91443.1180   52    9 112036.086 52611.0303  53.0%   4.2 3635s\r\n",
      " 264067 31045 57004.5053   48   10 112036.086 53017.9437  52.7%   4.2 3641s\r\n",
      " 270382 31056     cutoff   51      112036.086 53305.1955  52.4%   4.2 3952s\r\n",
      " 271146 31813 58755.9272   58   17 112036.086 53371.0134  52.4%   4.2 3957s\r\n",
      " 280248 31649 102359.231   39    7 112036.086 53799.1226  52.0%   4.2 3960s\r\n",
      " 282546 31503 83495.4551   64    6 112036.086 54056.6287  51.8%   4.2 3965s\r\n",
      " 290708 31755     cutoff   53      112036.086 54536.4206  51.3%   4.2 3970s\r\n",
      " 294499 31538 infeasible   48      112036.086 54724.3389  51.2%   4.2 4280s\r\n",
      " 295357 32263 93029.2375   58    6 112036.086 54849.8542  51.0%   4.2 4286s\r\n",
      " 310134 31869 57592.2463   53   11 112036.086 55570.2368  50.4%   4.2 4290s\r\n",
      " 317350 31660 infeasible   57      112036.086 55966.5314  50.0%   4.2 4598s\r\n",
      " 318181 32115 88727.3118   55   10 112036.086 56055.0000  50.0%   4.2 4604s\r\n",
      " 330065 31929 infeasible   63      112036.086 56498.0148  49.6%   4.2 4605s\r\n",
      " 333167 31476 87104.7601   54   12 112036.086 56865.0864  49.2%   4.2 4610s\r\n",
      " 344316 30999 infeasible   50      112036.086 57542.8804  48.6%   4.2 4919s\r\n",
      " 345127 30957 74382.0717   51   10 112036.086 57605.7938  48.6%   4.2 4924s\r\n",
      " 356601 30846 infeasible   70      112036.086 58065.2387  48.2%   4.1 4925s\r\n",
      " 361231 29513 infeasible   56      112036.086 58685.2701  47.6%   4.2 4930s\r\n",
      " 366223 28981 91677.7318   54   13 112036.086 59207.7411  47.2%   4.2 4935s\r\n",
      " 375106 28040 infeasible   54      112036.086 59979.7228  46.5%   4.2 4940s\r\n",
      " 380199 27583 103862.209   65    8 112036.086 60524.2237  46.0%   4.2 5240s\r\n",
      " 385295 27438 70748.1257   54   13 112036.086 61161.1894  45.4%   4.2 5247s\r\n",
      " 396296 27159 infeasible   63      112036.086 62117.0153  44.6%   4.2 5251s\r\n",
      " 405351 26906 infeasible   42      112036.086 62721.4754  44.0%   4.1 5545s\r\n",
      " 408850 26582 infeasible   64      112036.086 63057.1478  43.7%   4.2 5550s\r\n",
      " 422312 25651 infeasible   47      112036.086 64201.2848  42.7%   4.1 5555s\r\n",
      " 431464 25114 infeasible   40      112036.086 65106.2845  41.9%   4.1 5560s\r\n",
      " 436879 24573 infeasible   60      112036.086 65689.7074  41.4%   4.1 5565s\r\n",
      " 442327 24070 infeasible   52      112036.086 66200.1399  40.9%   4.1 5868s\r\n",
      " 443338 23733 72389.1458   58   15 112036.086 66273.7864  40.8%   4.1 5870s\r\n",
      " 451023 22400 69515.0939   47   10 112036.086 67441.8716  39.8%   4.1 5875s\r\n",
      " 463446 21442 infeasible   55      112036.086 68780.7191  38.6%   4.1 5880s\r\n",
      " 470596 20077 93778.1752   48    6 112036.086 69797.5785  37.7%   4.1 5885s\r\n",
      " 477929 18360 94125.2464   61    8 112036.086 71169.4048  36.5%   4.1 5890s\r\n",
      " 485019 17113     cutoff   52      112036.086 72508.0681  35.3%   4.1 5895s\r\n",
      " 491500 15716 107002.973   62   11 112036.086 73896.5506  34.0%   4.1 5900s\r\n",
      " 499689 13948 100835.387   60    9 112036.086 75884.2378  32.3%   4.1 5905s\r\n",
      " 505045 11188 infeasible   60      112036.086 78210.4760  30.2%   4.1 5911s\r\n",
      " 509317  9298 85059.7232   57   10 112036.086 80472.0293  28.2%   4.1 5915s\r\n",
      " 516847  6318 infeasible   48      112036.086 84468.0832  24.6%   4.1 5920s\r\n",
      " 521796  3742 infeasible   47      112036.086 87045.4379  22.3%   4.1 5925s\r\n",
      "\r\n",
      "Cutting planes:\r\n",
      "  Lift-and-project: 5\r\n",
      "  MIR: 4\r\n",
      "  Flow cover: 3\r\n",
      "  Zero half: 6\r\n",
      "\r\n",
      "Explored 529736 nodes (2178526 simplex iterations) in 5929.97 seconds (2322.88 work units)\r\n",
      "Thread count was 20 (of 20 available processors)\r\n",
      "\r\n",
      "Solution count 5: 112036 112211 114391 ... 203617\r\n",
      "\r\n",
      "Optimal solution found (tolerance 1.00e-04)\r\n",
      "Best objective 1.120360860800e+05, best bound 1.120360860800e+05, gap 0.0000%\r\n",
      "\r\n",
      "User-callback calls 1191309, time in user-callback 0.87 sec\r\n"
     ]
    }
   ],
   "source": [
    "optimize!(model)"
   ]
  },
  {
   "cell_type": "code",
   "execution_count": 15,
   "metadata": {},
   "outputs": [
    {
     "data": {
      "text/plain": [
       "112036.08607999208"
      ]
     },
     "metadata": {},
     "output_type": "display_data"
    }
   ],
   "source": [
    "objective_value(model)"
   ]
  },
  {
   "cell_type": "code",
   "execution_count": 16,
   "metadata": {},
   "outputs": [],
   "source": [
    "x_opt = value.(x);"
   ]
  },
  {
   "cell_type": "code",
   "execution_count": 21,
   "metadata": {},
   "outputs": [
    {
     "name": "stdout",
     "output_type": "stream",
     "text": [
      "\u001b[1m3×15 DataFrame\u001b[0m\n",
      "\u001b[1m Row \u001b[0m│\u001b[1m column \u001b[0m\u001b[1m 1    \u001b[0m\u001b[1m 2    \u001b[0m\u001b[1m 3    \u001b[0m\u001b[1m 4    \u001b[0m\u001b[1m 5    \u001b[0m\u001b[1m 6    \u001b[0m\u001b[1m 7    \u001b[0m\u001b[1m 8    \u001b[0m\u001b[1m 9    \u001b[0m\u001b[1m 10   \u001b[0m\u001b[1m 11   \u001b[0m\u001b[1m 12   \u001b[0m\u001b[1m 13   \u001b[0m\u001b[1m 14   \u001b[0m\n",
      "\u001b[1m     \u001b[0m│\u001b[90m String \u001b[0m\u001b[90m Real \u001b[0m\u001b[90m Real \u001b[0m\u001b[90m Real \u001b[0m\u001b[90m Real \u001b[0m\u001b[90m Real \u001b[0m\u001b[90m Real \u001b[0m\u001b[90m Real \u001b[0m\u001b[90m Real \u001b[0m\u001b[90m Real \u001b[0m\u001b[90m Real \u001b[0m\u001b[90m Real \u001b[0m\u001b[90m Real \u001b[0m\u001b[90m Real \u001b[0m\u001b[90m Real \u001b[0m\n",
      "─────┼────────────────────────────────────────────────────────────────────────────────────────────\n",
      "   1 │ i        1     6     1     1     1     8     1     9     5     4     7     2    10     3\n",
      "   2 │ j        5     4     6     7     2    10     9     8     3     1     1     1     1     1\n",
      "   3 │ x        1.0   1.0   1.0   1.0   1.0   1.0   1.0   1.0   1.0   1.0   1.0   1.0   1.0   1.0"
     ]
    }
   ],
   "source": [
    "df_full = convert_jump_container_to_df(x_opt, dim_names=[:i, :j], value_col=:x)\n",
    "df = df[df.x .== 1, :]\n",
    "show(DataFrame([[names(df)]; collect.(eachrow(df))], [:column; Symbol.(axes(df, 1))]), allcols=true, allrows=true)"
   ]
  }
 ],
 "metadata": {
  "kernelspec": {
   "display_name": "Julia 1.8.0",
   "language": "julia",
   "name": "julia-1.8"
  },
  "language_info": {
   "file_extension": ".jl",
   "mimetype": "application/julia",
   "name": "julia",
   "version": "1.8.0"
  },
  "orig_nbformat": 4
 },
 "nbformat": 4,
 "nbformat_minor": 2
}
